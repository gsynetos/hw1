{
 "cells": [
  {
   "cell_type": "code",
   "execution_count": 10,
   "metadata": {
    "collapsed": true
   },
   "outputs": [],
   "source": [
    "import numpy as np"
   ]
  },
  {
   "cell_type": "code",
   "execution_count": 11,
   "metadata": {
    "collapsed": true
   },
   "outputs": [],
   "source": [
    "v = np.array([ 0.        ,  0.11111111,  0.44444444,  1.        ,  0.11111111,\n",
    "        0.22222222,  0.55555556,  1.11111111,  0.44444444,  0.55555556,\n",
    "        0.88888889,  1.44444444,  1.        ,  1.11111111,  1.44444444,  2.        ])\n",
    "\n",
    "u = np.array([ 0.        ,  0.11111111,  0.44444444,  1.        ,  0.11111111,\n",
    "        0.07638889,  0.48263889,  1.11111111,  0.44444444,  0.48263889,\n",
    "        0.85243056,  1.44444444,  1.        ,  1.11111111,  1.44444444,  2.        ])\n",
    "\n",
    "\n",
    "A = np.array([  0.,   9.,   0.,   0.,   9., -36.,   9.,   0.,   0.,   9.,   0.,\n",
    "         0.,   0.,   0.,   0.,   0.])"
   ]
  },
  {
   "cell_type": "code",
   "execution_count": 14,
   "metadata": {
    "collapsed": false
   },
   "outputs": [
    {
     "data": {
      "text/plain": [
       "4.00000014"
      ]
     },
     "execution_count": 14,
     "metadata": {},
     "output_type": "execute_result"
    }
   ],
   "source": [
    "np.dot(A,v)"
   ]
  },
  {
   "cell_type": "code",
   "execution_count": 15,
   "metadata": {
    "collapsed": false
   },
   "outputs": [
    {
     "data": {
      "text/plain": [
       "7.9374999600000002"
      ]
     },
     "execution_count": 15,
     "metadata": {},
     "output_type": "execute_result"
    }
   ],
   "source": [
    "np.dot(A,u)"
   ]
  }
 ],
 "metadata": {
  "kernelspec": {
   "display_name": "Python 3",
   "language": "python",
   "name": "python3"
  },
  "language_info": {
   "codemirror_mode": {
    "name": "ipython",
    "version": 3
   },
   "file_extension": ".py",
   "mimetype": "text/x-python",
   "name": "python",
   "nbconvert_exporter": "python",
   "pygments_lexer": "ipython3",
   "version": "3.5.2"
  }
 },
 "nbformat": 4,
 "nbformat_minor": 0
}
