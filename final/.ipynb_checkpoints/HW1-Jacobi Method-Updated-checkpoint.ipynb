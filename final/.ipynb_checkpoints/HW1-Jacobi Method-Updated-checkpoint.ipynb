{
 "cells": [
  {
   "cell_type": "markdown",
   "metadata": {},
   "source": [
    "# Προχωρημένες Υπολογιστικές Μέθοδοι Ι\n",
    "## Homework 1 - Jacobi Method\n",
    "### Synetos Giorgos - Aravanis Dimitris"
   ]
  },
  {
   "cell_type": "code",
   "execution_count": 34,
   "metadata": {
    "collapsed": false
   },
   "outputs": [],
   "source": [
    "#-------------------------------\n",
    "#Import Library & Settings\n",
    "#-------------------------------\n",
    "import numpy as np\n",
    "#from IPython.core.display import display, HTML\n",
    "from IPython.display import display, Markdown, Latex\n",
    "import matplotlib.pyplot as plt\n",
    "from IPython.display import Image\n",
    "%matplotlib inline"
   ]
  },
  {
   "cell_type": "markdown",
   "metadata": {},
   "source": [
    "# Poisson equation\n",
    "\n",
    "$ \\bigtriangledown ^2  \\Phi =4 $\n",
    "\n",
    "subject to B.C:  $ Φ(x,y) = x^2 + y^2 $\n",
    "\n"
   ]
  },
  {
   "cell_type": "markdown",
   "metadata": {},
   "source": [
    "### Grid Definition\n",
    "For the present demonstration  we are considering a grid of 5x5. \n",
    "\n",
    "However the grid can be adjsuted."
   ]
  },
  {
   "cell_type": "code",
   "execution_count": 35,
   "metadata": {
    "collapsed": false
   },
   "outputs": [],
   "source": [
    "#-------------------------------\n",
    "#Set the Grid\n",
    "#-------------------------------\n",
    "\n",
    "L, H = 1,1 #Size of the grid (Length,Height)\n",
    "IM,JM =4,4 #Number of columns & rows\n",
    "Dx,Dy = L/(IM-1) , H/(JM-1)\n",
    "a = Dx/Dy \n",
    "f = 4 # Η τιμή απο τη εξίσωση Poison που καλούμαστε να λύσουμε\n",
    "\n",
    "# Set array size and set the interior value with v_init\n",
    "v_init = 0 #initial guess for interior nodes\n",
    "v = np.empty((JM, IM))\n",
    "v_new = np.empty((JM, IM))\n",
    "A= np.empty((JM, IM))\n",
    "\n",
    "\n",
    "v.fill(v_init)"
   ]
  },
  {
   "cell_type": "markdown",
   "metadata": {},
   "source": [
    "### Analytical Solution {u}"
   ]
  },
  {
   "cell_type": "code",
   "execution_count": 36,
   "metadata": {
    "collapsed": false
   },
   "outputs": [],
   "source": [
    "u = np.empty((JM, IM))\n",
    "for i in range(JM):\n",
    "    for j in range(IM):\n",
    "        u[i, j] = (j*Dx)**2 + (i*Dy)**2\n",
    "uk = u.flatten()\n"
   ]
  },
  {
   "cell_type": "markdown",
   "metadata": {},
   "source": [
    "### Boundary Conditions"
   ]
  },
  {
   "cell_type": "code",
   "execution_count": 37,
   "metadata": {
    "collapsed": false
   },
   "outputs": [],
   "source": [
    "#-------------------------------\n",
    "#Set Boundary conditions\n",
    "#-------------------------------\n",
    "\n",
    "#Top Boundary\n",
    "bc_top = np.empty(IM)\n",
    "for i in range(IM):\n",
    "    bc_top[i] = (i*Dx)**2 + ((JM-1)*Dy)**2\n",
    "v[(JM-1):, :] = bc_top\n",
    "\n",
    "  \n",
    "#Bottom Boundary\n",
    "bc_bottom = np.empty(IM)\n",
    "for i in range(IM):\n",
    "    bc_bottom[i] = (i*Dx)**2\n",
    "v[:1, :] = bc_bottom\n",
    "\n",
    "\n",
    "#Right Boundary\n",
    "bc_right = np.empty(JM)\n",
    "for i in range(JM):\n",
    "    bc_right[i] = (i*Dy)**2 + ((IM-1)*Dx)**2\n",
    "bc_right = bc_right[np.newaxis, :].T\n",
    "v[:, (IM-1):] = bc_right\n",
    "\n",
    "#Left Boundary\n",
    "bc_left = np.empty(JM)\n",
    "for i in range(0, JM):\n",
    "    bc_left[i] = (i*Dy)**2\n",
    "bc_left = bc_left[np.newaxis, :].T\n",
    "v[:, :1] = bc_left \n",
    "\n",
    "vk = v.flatten()\n"
   ]
  },
  {
   "cell_type": "markdown",
   "metadata": {},
   "source": [
    "### Boundary Nodes"
   ]
  },
  {
   "cell_type": "code",
   "execution_count": 38,
   "metadata": {
    "collapsed": false
   },
   "outputs": [],
   "source": [
    "BN = list()\n",
    "\n",
    "#Nodes located on Bottom\n",
    "for k in range (IM):\n",
    "    BN.append(k)\n",
    "#Nodes located on Top\n",
    "for k in range ((IM*(JM-1)),IM*JM):\n",
    "    BN.append(k)\n",
    "#Nodes located on the Left Side excluding first and last node\n",
    "for i in range (1,JM-1):\n",
    "    k = i*(IM)\n",
    "    BN.append(k)\n",
    "#Nodes located on the Right Side excluding first and last node\n",
    "for i in range (1,JM-1):\n",
    "    k = (i+1)*IM-1\n",
    "    BN.append(k)\n",
    "BN = sorted(BN)\n"
   ]
  },
  {
   "cell_type": "markdown",
   "metadata": {},
   "source": [
    "### Matrix A"
   ]
  },
  {
   "cell_type": "code",
   "execution_count": 39,
   "metadata": {
    "collapsed": false
   },
   "outputs": [],
   "source": [
    "dim = (IM*JM,IM*JM)\n",
    "A = np.zeros(dim)\n",
    "\n",
    "#Boundary Nodes A[i,i]=1\n",
    "for index in BN:\n",
    "    A[index,index] = 1\n",
    "\n",
    "    \n",
    "#Inner Nodes\n",
    "for k in range (IM*JM):\n",
    "    if k not in BN:\n",
    "        A[k,k]= -2*(Dx**2+Dy**2)/((Dx**2) * (Dy**2))\n",
    "        vertical_neighbours = [k+IM,k-IM]\n",
    "        for v_neighbour in vertical_neighbours:\n",
    "            A[k,v_neighbour]= Dx**2/((Dx**2) * (Dy**2))\n",
    "        horizontal_neighbours = [k+1,k-1]\n",
    "        for h_neighbour in horizontal_neighbours:\n",
    "            A[k,h_neighbour]= Dy**2/((Dx**2) * (Dy**2))\n",
    "\n",
    "\n",
    "\n",
    "            "
   ]
  },
  {
   "cell_type": "markdown",
   "metadata": {},
   "source": [
    "### Vector b\n"
   ]
  },
  {
   "cell_type": "code",
   "execution_count": 40,
   "metadata": {
    "collapsed": false
   },
   "outputs": [],
   "source": [
    "b = np.empty(IM*JM)\n",
    "for k in range (IM*JM):\n",
    "    if k not in BN:\n",
    "        b[k]=4"
   ]
  },
  {
   "cell_type": "markdown",
   "metadata": {},
   "source": [
    "### Jacobi Method"
   ]
  },
  {
   "cell_type": "code",
   "execution_count": 41,
   "metadata": {
    "collapsed": false
   },
   "outputs": [
    {
     "name": "stdout",
     "output_type": "stream",
     "text": [
      "node k= 5\n",
      "v_new= -0.0555555555556\n",
      "Av[k]= 4.0\n",
      "node k= 6\n",
      "v_new= 0.263888888889\n",
      "Av[k]= 4.0\n",
      "node k= 9\n",
      "v_new= 0.263888888889\n",
      "Av[k]= 4.0\n",
      "node k= 10\n",
      "v_new= 0.743055555556\n",
      "Av[k]= 4.0\n",
      "After 1  iterations, the residual on the final iteration is  1\n",
      "error= [ 0.          0.          0.          0.          0.          0.27777778\n",
      "  0.29166667  0.          0.          0.29166667  0.14583333  0.          0.\n",
      "  0.          0.          0.        ]\n"
     ]
    }
   ],
   "source": [
    "Jacobi = \"yes\"\n",
    "if Jacobi == \"yes\":\n",
    "    #-------------------------------\n",
    "    #Jacobi Method\n",
    "    #-------------------------------\n",
    "\n",
    "    v_newk = vk[:]\n",
    "    counter= list()\n",
    "    residual = list()\n",
    "    e = list()\n",
    "    resid = list()\n",
    "    error = list()\n",
    "    res=1\n",
    "    iteration = 0\n",
    "    while res > 10**-6 and iteration in range(0, 1) :\n",
    "        restot = 0\n",
    "        vk[:]=v_newk\n",
    "#         for i in range(1, JM-1):\n",
    "#             for j in range(1, IM-1):\n",
    "#                 k= i*IM + j\n",
    "        for k in range (IM*JM):\n",
    "            if k not in BN:\n",
    "                print(\"node k=\",k)\n",
    "                v_newk[k] = (-A[k][k+IM]*vk[k+IM] - A[k][k-IM]*vk[k-IM]- A[k][k+1]*vk[k+1] - A[k][k-1]*vk[k-1] + b[k] )/ A[k][k]\n",
    "                print(\"v_new=\",v_newk[k])\n",
    "                print(\"Av[k]=\",np.dot(A[k],v_newk))\n",
    "                resid = b[k] - np.dot(A[k],v_newk)\n",
    "                #restot = restot + resid\n",
    "                #print(np.linalg.norm(resid))\n",
    "\n",
    "        \n",
    "\n",
    "        #res = np.linalg.norm(restot)\n",
    "\n",
    "        #Convergence data\n",
    "        counter.append(iteration)\n",
    "        residual.append(res)\n",
    "        iteration += 1\n",
    "\n",
    "        #Error\n",
    "        e = (uk - v_newk)\n",
    "        error.append(np.linalg.norm(e))\n",
    "        \n",
    "    print(\"After\",iteration,\" iterations,\",\n",
    "          \"the residual on the final iteration is \",res)\n",
    "\n",
    "print(\"error=\",e)\n",
    "    \n",
    "    \n",
    "v_new = v_newk.reshape(JM,IM)\n"
   ]
  },
  {
   "cell_type": "code",
   "execution_count": 42,
   "metadata": {
    "collapsed": false
   },
   "outputs": [
    {
     "data": {
      "text/plain": [
       "-4.75"
      ]
     },
     "execution_count": 42,
     "metadata": {},
     "output_type": "execute_result"
    }
   ],
   "source": [
    "A[5]\n",
    "v_newk\n",
    "b[5] - np.dot(A[5],v_newk)"
   ]
  },
  {
   "cell_type": "markdown",
   "metadata": {},
   "source": [
    "## Plots\n",
    "\n",
    "In the following figures the counter lines and the convergence are presented."
   ]
  },
  {
   "cell_type": "markdown",
   "metadata": {},
   "source": [
    "#### Counter Lines"
   ]
  },
  {
   "cell_type": "code",
   "execution_count": 43,
   "metadata": {
    "collapsed": false
   },
   "outputs": [
    {
     "data": {
      "image/png": "[encoded data removed]",
      "text/plain": [
       "<matplotlib.figure.Figure at 0x10fcf07b8>"
      ]
     },
     "metadata": {},
     "output_type": "display_data"
    }
   ],
   "source": [
    "# Create Grid\n",
    "X, Y = np.meshgrid(np.arange(0, L, L/IM), np.arange(0, H, H/JM))\n",
    "# Configure the contour\n",
    "cp = plt.contour(X, Y, v_new)\n",
    "plt.clabel(cp, inline=True, fontsize=10)\n",
    "plt.title(\"Contour Lines\")\n",
    "plt.xlabel('x-axis')\n",
    "plt.ylabel('y-axis')\n",
    "\n",
    "\n",
    "# Set Colorbar\n",
    "plt.colorbar()\n",
    "\n",
    "# Show the result in the plot window\n",
    "plt.show()"
   ]
  },
  {
   "cell_type": "markdown",
   "metadata": {},
   "source": [
    "#### Convergence Plot"
   ]
  },
  {
   "cell_type": "code",
   "execution_count": 44,
   "metadata": {
    "collapsed": false
   },
   "outputs": [
    {
     "data": {
      "image/png": "[encoded data removed]",
      "text/plain": [
       "<matplotlib.figure.Figure at 0x10fceaa90>"
      ]
     },
     "metadata": {},
     "output_type": "display_data"
    }
   ],
   "source": [
    "#plot convergence\n",
    "plt.plot(counter, residual)\n",
    "plt.yscale('symlog')\n",
    "plt.title('Convergence')\n",
    "plt.xlabel('iterations')\n",
    "plt.ylabel('residual log_10')\n",
    "plt.grid(True)\n",
    "plt.show()\n",
    "\n"
   ]
  },
  {
   "cell_type": "markdown",
   "metadata": {},
   "source": [
    "### Error Plot"
   ]
  },
  {
   "cell_type": "code",
   "execution_count": 45,
   "metadata": {
    "collapsed": false
   },
   "outputs": [
    {
     "data": {
      "image/png": "[encoded data removed]",
      "text/plain": [
       "<matplotlib.figure.Figure at 0x10c3c19b0>"
      ]
     },
     "metadata": {},
     "output_type": "display_data"
    }
   ],
   "source": [
    "#plot error\n",
    "plt.plot(counter, error)\n",
    "plt.title('error')\n",
    "plt.yscale('symlog')\n",
    "plt.xlabel('iterations')\n",
    "plt.ylabel('error')\n",
    "plt.grid(True)\n",
    "plt.show()"
   ]
  },
  {
   "cell_type": "code",
   "execution_count": null,
   "metadata": {
    "collapsed": false
   },
   "outputs": [],
   "source": []
  }
 ],
 "metadata": {
  "kernelspec": {
   "display_name": "Python 3",
   "language": "python",
   "name": "python3"
  },
  "language_info": {
   "codemirror_mode": {
    "name": "ipython",
    "version": 3
   },
   "file_extension": ".py",
   "mimetype": "text/x-python",
   "name": "python",
   "nbconvert_exporter": "python",
   "pygments_lexer": "ipython3",
   "version": "3.5.2"
  }
 },
 "nbformat": 4,
 "nbformat_minor": 0
}
