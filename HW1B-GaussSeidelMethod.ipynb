{
 "cells": [
  {
   "cell_type": "markdown",
   "metadata": {},
   "source": [
    "# Προχωρημένες Υπολογιστικές Μέθοδοι Ι\n",
    "## Homework 1b - Gauss Siedel Method\n",
    "### Synetos Giorgos - Aravanis Dimitris"
   ]
  },
  {
   "cell_type": "code",
   "execution_count": 1,
   "metadata": {
    "collapsed": false
   },
   "outputs": [],
   "source": [
    "#-------------------------------\n",
    "#Import Library & Settings\n",
    "#-------------------------------\n",
    "import numpy as np\n",
    "import math\n",
    "#from IPython.core.display import display, HTML\n",
    "from IPython.display import display, Markdown, Latex\n",
    "import matplotlib.pyplot as plt\n",
    "from IPython.display import Image\n",
    "%matplotlib inline"
   ]
  },
  {
   "cell_type": "markdown",
   "metadata": {},
   "source": [
    "# Poisson equation\n",
    "\n",
    "$ \\bigtriangledown ^2  \\Phi =4 $\n",
    "\n",
    "subject to B.C:  $ Φ(x,y) = x^2 + y^2 $\n",
    "\n"
   ]
  },
  {
   "cell_type": "markdown",
   "metadata": {},
   "source": [
    "### Grid Definition\n",
    "For the present demonstration  we are considering a grid of 5x5. \n",
    "\n",
    "However the grid can be adjsuted."
   ]
  },
  {
   "cell_type": "code",
   "execution_count": 2,
   "metadata": {
    "collapsed": false
   },
   "outputs": [],
   "source": [
    "#-------------------------------\n",
    "#Set the Grid\n",
    "#-------------------------------\n",
    "\n",
    "L, H = 1,1  #Length,Height\n",
    "IM, JM = 4, 4 #Number of columns & rows\n",
    "Dx, Dy = L/(IM-1) , H/(JM-1)\n",
    "a = Dx/Dy \n",
    "f = 4 # Η τιμή απο τη εξίσωση Poison που καλούμαστε να λύσουμε\n",
    "\n",
    "# Set array size and set the interior value with v_init\n",
    "v_init = 0 #initial guess for interior nodes\n",
    "v = np.empty((JM, IM))\n",
    "v_new = np.empty((JM, IM))\n",
    "A = np.empty((JM, IM))\n",
    "\n",
    "b = np.empty(IM*JM)\n",
    "#b.fill(f)\n",
    "v.fill(v_init)"
   ]
  },
  {
   "cell_type": "markdown",
   "metadata": {},
   "source": [
    "### Analytical Solution {u}"
   ]
  },
  {
   "cell_type": "code",
   "execution_count": 3,
   "metadata": {
    "collapsed": false
   },
   "outputs": [],
   "source": [
    "u = np.empty((JM, IM))\n",
    "for i in range(JM):\n",
    "    for j in range(IM):\n",
    "        u[i, j] = (j*Dx)**2 + (i*Dy)**2\n",
    "uk = u.flatten()"
   ]
  },
  {
   "cell_type": "markdown",
   "metadata": {},
   "source": [
    "### Boundary Conditions"
   ]
  },
  {
   "cell_type": "code",
   "execution_count": 4,
   "metadata": {
    "collapsed": false
   },
   "outputs": [],
   "source": [
    "#-------------------------------\n",
    "#Set Boundary conditions\n",
    "#-------------------------------\n",
    "\n",
    "#Top Boundary\n",
    "bc_top = np.empty(IM)\n",
    "for i in range(IM):\n",
    "    bc_top[i] = (i*Dx)**2 + ((JM-1)*Dy)**2\n",
    "v[(JM-1):, :] = bc_top\n",
    "\n",
    "  \n",
    "#Bottom Boundary\n",
    "bc_bottom = np.empty(IM)\n",
    "for i in range(IM):\n",
    "    bc_bottom[i] = (i*Dx)**2\n",
    "v[:1, :] = bc_bottom\n",
    "\n",
    "\n",
    "#Right Boundary\n",
    "bc_right = np.empty(JM)\n",
    "for i in range(JM):\n",
    "    bc_right[i] = (i*Dy)**2 + ((IM-1)*Dx)**2\n",
    "bc_right = bc_right[np.newaxis, :].T\n",
    "v[:, (IM-1):] = bc_right\n",
    "\n",
    "#Left Boundary\n",
    "bc_left = np.empty(JM)\n",
    "for i in range(0, JM):\n",
    "    bc_left[i] = (i*Dy)**2\n",
    "bc_left = bc_left[np.newaxis, :].T\n",
    "v[:, :1] = bc_left \n",
    "\n",
    "vk = v.flatten()\n"
   ]
  },
  {
   "cell_type": "markdown",
   "metadata": {},
   "source": [
    "### Boundary Nodes"
   ]
  },
  {
   "cell_type": "code",
   "execution_count": 5,
   "metadata": {
    "collapsed": false
   },
   "outputs": [
    {
     "data": {
      "text/plain": [
       "[0, 1, 2, 3, 4, 7, 8, 11, 12, 13, 14, 15]"
      ]
     },
     "execution_count": 5,
     "metadata": {},
     "output_type": "execute_result"
    }
   ],
   "source": [
    "BN = list()\n",
    "\n",
    "#Nodes located on Bottom\n",
    "for k in range (IM):\n",
    "    BN.append(k)\n",
    "#Nodes located on Top\n",
    "for k in range ((IM*(JM-1)),IM*JM):\n",
    "    BN.append(k)\n",
    "#Nodes located on the Left Side excluding first and last node\n",
    "for i in range (1,JM-1):\n",
    "    k = i*(IM)\n",
    "    BN.append(k)\n",
    "#Nodes located on the Right Side excluding first and last node\n",
    "for i in range (1,JM-1):\n",
    "    k = (i+1)*IM-1\n",
    "    BN.append(k)\n",
    "BN = sorted(BN)\n",
    "BN"
   ]
  },
  {
   "cell_type": "markdown",
   "metadata": {},
   "source": [
    "### Vector b\n"
   ]
  },
  {
   "cell_type": "code",
   "execution_count": 6,
   "metadata": {
    "collapsed": false
   },
   "outputs": [
    {
     "data": {
      "text/plain": [
       "array([  0.00000000e+000,   0.00000000e+000,   2.12212537e-314,\n",
       "         4.94065646e-324,   0.00000000e+000,   4.00000000e+000,\n",
       "         4.00000000e+000,   2.15550246e-314,   0.00000000e+000,\n",
       "         4.00000000e+000,   4.00000000e+000,   0.00000000e+000,\n",
       "         0.00000000e+000,  -5.22433787e-110,   2.15076527e-314,\n",
       "         2.20312697e-314])"
      ]
     },
     "execution_count": 6,
     "metadata": {},
     "output_type": "execute_result"
    }
   ],
   "source": [
    "for k in range (IM*JM):\n",
    "    if k not in BN:\n",
    "        b[k]=4\n",
    "b"
   ]
  },
  {
   "cell_type": "code",
   "execution_count": null,
   "metadata": {
    "collapsed": true
   },
   "outputs": [],
   "source": []
  },
  {
   "cell_type": "markdown",
   "metadata": {},
   "source": [
    "### Matrix A"
   ]
  },
  {
   "cell_type": "code",
   "execution_count": 7,
   "metadata": {
    "collapsed": false
   },
   "outputs": [],
   "source": [
    "dim = (IM*JM,IM*JM)\n",
    "A = np.zeros(dim)\n",
    "\n",
    "#Boundary Nodes A[i,i]=1\n",
    "for index in BN:\n",
    "    A[index,index] = 1\n",
    "\n",
    "    \n",
    "#Inner Nodes\n",
    "for k in range (IM*JM):\n",
    "    if k not in BN:\n",
    "        A[k,k]= -2*(Dx**2+Dy**2)/((Dx**2) * (Dy**2))\n",
    "        vertical_neighbours = [k+IM,k-IM]\n",
    "        for v_neighbour in vertical_neighbours:\n",
    "            A[k,v_neighbour]= Dx**2/((Dx**2) * (Dy**2))\n",
    "        horizontal_neighbours = [k+1,k-1]\n",
    "        for h_neighbour in horizontal_neighbours:\n",
    "            A[k,h_neighbour]= Dy**2/((Dx**2) * (Dy**2))\n",
    "\n"
   ]
  },
  {
   "cell_type": "markdown",
   "metadata": {},
   "source": [
    "### Matrix A Decomposition\n",
    "[A]{x} = {b} is transformed into ( [D] - [L] - [U] ){x}=b"
   ]
  },
  {
   "cell_type": "code",
   "execution_count": 8,
   "metadata": {
    "collapsed": false
   },
   "outputs": [],
   "source": [
    "D = np.diag(np.diag(A))\n",
    "L = np.tril(A,-1)\n",
    "U = np.triu(A,1)"
   ]
  },
  {
   "cell_type": "markdown",
   "metadata": {},
   "source": [
    "### Further Simplifications\n",
    "Define T = inv.D (L+U)\n",
    "and    c = inv.D {b}\n",
    "Jacobi method is written as\n",
    "{x_new} = [T]{x_old}+[c]"
   ]
  },
  {
   "cell_type": "code",
   "execution_count": 9,
   "metadata": {
    "collapsed": true
   },
   "outputs": [],
   "source": [
    "T = np.dot(np.linalg.inv(D),(L+U))\n",
    "c = np.dot(np.linalg.inv(D),b)"
   ]
  },
  {
   "cell_type": "markdown",
   "metadata": {},
   "source": [
    "### Conditional Number"
   ]
  },
  {
   "cell_type": "code",
   "execution_count": 10,
   "metadata": {
    "collapsed": false
   },
   "outputs": [
    {
     "name": "stdout",
     "output_type": "stream",
     "text": [
      "288.385069932\n"
     ]
    }
   ],
   "source": [
    "def conditional_number(matrix):\n",
    "    inv_matrix = np.linalg.inv(matrix)\n",
    "    #print(np.linalg.norm(matrix), np.linalg.norm(inv_matrix))\n",
    "    cond_a = np.linalg.norm(matrix) * np.linalg.norm(inv_matrix)\n",
    "    return cond_a\n",
    "\n",
    "cond_a = conditional_number(A)\n",
    "print(cond_a)"
   ]
  },
  {
   "cell_type": "markdown",
   "metadata": {},
   "source": [
    "# New Attempt for Jacobi"
   ]
  },
  {
   "cell_type": "code",
   "execution_count": 11,
   "metadata": {
    "collapsed": false
   },
   "outputs": [],
   "source": [
    "# n=len(b)\n",
    "\n",
    "# x_old = vk[:]\n",
    "# x = np.empty(n)\n",
    "\n",
    "# def jacobi(a,x,x_old,b,tol=10**-6,n_iter=10):\n",
    "#     for k in range(n_iter):\n",
    "#         #print(\"iteration\",k)\n",
    "#         #if np.linalg.norm(x - x_old) < tol:\n",
    "#         #    break\n",
    "\n",
    "#         for i in range(n):\n",
    "#             if i not in BN:\n",
    "#                 x[i] = 1.0 / a[i, i] * sum(-a[i, j] * x_old[j] + b[i] for j in range(n) if j != i)\n",
    "#         print(\"x_old= \\n\",x_old)\n",
    "#         print(\"x_new= \\n\", x)\n",
    "#         x_old = x[:]\n",
    "#     return x\n",
    "        \n",
    "# test=jacobi(A,x,x_old,b)\n",
    "# test\n"
   ]
  },
  {
   "cell_type": "markdown",
   "metadata": {},
   "source": [
    "### Jacobi Method\n"
   ]
  },
  {
   "cell_type": "code",
   "execution_count": null,
   "metadata": {
    "collapsed": false
   },
   "outputs": [],
   "source": []
  },
  {
   "cell_type": "code",
   "execution_count": 12,
   "metadata": {
    "collapsed": false
   },
   "outputs": [
    {
     "name": "stdout",
     "output_type": "stream",
     "text": [
      "After 1000  iterations, the residual on the final iteration is  96.0\n"
     ]
    },
    {
     "data": {
      "text/plain": [
       "array([ 0.,  0.,  0.,  0.,  0.,  0.,  0.,  0.,  0.,  0.,  0.,  0.,  0.,\n",
       "        0.,  0.,  0.])"
      ]
     },
     "execution_count": 12,
     "metadata": {},
     "output_type": "execute_result"
    }
   ],
   "source": [
    "Jacobi = \"yes\"\n",
    "if Jacobi == \"yes\":\n",
    "    #-------------------------------\n",
    "    #Jacobi Method\n",
    "    #-------------------------------\n",
    "\n",
    "    v_newk = vk[:]\n",
    "    counter= list()\n",
    "    residual = list()\n",
    "    e = list()\n",
    "    error = list()\n",
    "    res=1\n",
    "    iteration = 0\n",
    "    while res > 10**-6 and iteration in range(0, 1000) :\n",
    "        r=0\n",
    "        vk[:]=v_newk\n",
    "        for i in range(1, JM-1):\n",
    "            for j in range(1, IM-1):\n",
    "                k= i*IM + j\n",
    "                v_newk[k] = (-A[k][k+IM]*vk[k+IM] - A[k][k-IM]*vk[k-IM]- A[k][k+1]*vk[k+1] - A[k][k-1]*vk[k-1] + b[k] )/ A[k][k]\n",
    "\n",
    "\n",
    "                r = r + b[k]-np.dot(A[k,k],v_newk[k])\n",
    "        res = np.linalg.norm(r)\n",
    "\n",
    "        #Convergence data\n",
    "        counter.append(iteration)\n",
    "        residual.append(res)\n",
    "        iteration += 1\n",
    "\n",
    "    print(\"After\",iteration,\" iterations,\",\n",
    "          \"the residual on the final iteration is \",res)\n",
    "\n",
    "uk - v_newk"
   ]
  },
  {
   "cell_type": "code",
   "execution_count": 13,
   "metadata": {
    "collapsed": false
   },
   "outputs": [],
   "source": [
    "# Jacobi = \"yes\"\n",
    "# if Jacobi == \"yes\":\n",
    "#     #-------------------------------\n",
    "#     #Jacobi Method\n",
    "#     #-------------------------------\n",
    "\n",
    "#     v_new[:] = v\n",
    "#     counter= list()\n",
    "#     residual = list()\n",
    "#     e = list()\n",
    "#     error = list()\n",
    "#     res=1\n",
    "#     iteration = 0\n",
    "#     while res > 10**-6 and iteration in range(0, 100) :\n",
    "#         v[:]=v_new\n",
    "#         for i in range(1, JM-1):\n",
    "#             for j in range(1, IM-1):\n",
    "#                 k= i*IM + j\n",
    "#                 v_new[i, j] = ((A[k][k+IM]*v[i+1][j] + A[k][k-IM]*v[i-1][j] \\\n",
    "#                                 + (A[k][k+1]*v[i][j+1] + A[k][k-1]*v[i][j-1]))-b[k])/-A[k][k]\n",
    "\n",
    "                \n",
    "#         v_newk = v_new.flatten()\n",
    "#         r = b-np.dot(A,v_newk)\n",
    "#         res = np.linalg.norm(r)\n",
    "\n",
    "#         #Error\n",
    "#         e = (uk - v_newk)\n",
    "#         error.append(np.linalg.norm(e))\n",
    "\n",
    "#         #Convergence data\n",
    "#         counter.append(iteration)\n",
    "#         residual.append(res)\n",
    "#         iteration += 1\n",
    "\n",
    "#         #Print unequality 3 of the notes\n",
    "#         uneq_1 = ((1/cond_a) * np.linalg.norm(res)) / np.linalg.norm(b)\n",
    "#         uneq_2 = np.linalg.norm(e) / np.linalg.norm(v_newk)\n",
    "#         uneq_3 = (cond_a * np.linalg.norm(res)) / np.linalg.norm(b)\n",
    "#         #print(uneq_1, \"=<\", uneq_2, \"=<\", uneq_3)\n",
    "\n",
    "#     print(\"After\",iteration,\" iterations,\",\n",
    "#           \"the residual on the final iteration is \",res)\n"
   ]
  },
  {
   "cell_type": "markdown",
   "metadata": {},
   "source": [
    "# Kiusalaas - Gauss Siedel Method\n"
   ]
  },
  {
   "cell_type": "code",
   "execution_count": 14,
   "metadata": {
    "collapsed": true
   },
   "outputs": [],
   "source": [
    "# def gaussSeidel(iterEqs,x,tol = 1.0e-6):\n",
    "#     omega = 1.0\n",
    "#     k = 10\n",
    "#     p = 1\n",
    "#     for i in range(1,501):\n",
    "#         xOld = x.copy()\n",
    "#         x = iterEqs(x,omega)\n",
    "#         dx = math.sqrt(np.dot(x-xOld, x-xOld))\n",
    "#         if dx < tol:\n",
    "#             return x,i,omega\n",
    "\n",
    "# def iterEqs(x,omega):\n",
    "    "
   ]
  },
  {
   "cell_type": "markdown",
   "metadata": {},
   "source": [
    "## Plots\n",
    "\n",
    "In the following figures the counter lines and the convergence are presented."
   ]
  },
  {
   "cell_type": "markdown",
   "metadata": {},
   "source": [
    "#### Counter Lines"
   ]
  },
  {
   "cell_type": "code",
   "execution_count": 15,
   "metadata": {
    "collapsed": false
   },
   "outputs": [
    {
     "name": "stderr",
     "output_type": "stream",
     "text": [
      "/Users/gsynetos/anaconda/lib/python3.5/site-packages/ipykernel/__main__.py:5: RuntimeWarning: invalid value encountered in true_divide\n"
     ]
    },
    {
     "ename": "TypeError",
     "evalue": "only length-1 arrays can be converted to Python scalars",
     "output_type": "error",
     "traceback": [
      "\u001b[0;31m---------------------------------------------------------------------------\u001b[0m",
      "\u001b[0;31mTypeError\u001b[0m                                 Traceback (most recent call last)",
      "\u001b[0;32m<ipython-input-15-fb6fce97ce50>\u001b[0m in \u001b[0;36m<module>\u001b[0;34m()\u001b[0m\n\u001b[1;32m      3\u001b[0m \u001b[0;32mif\u001b[0m \u001b[0mplotcontourlines\u001b[0m \u001b[0;34m==\u001b[0m \u001b[0;34m\"yes\"\u001b[0m\u001b[0;34m:\u001b[0m\u001b[0;34m\u001b[0m\u001b[0m\n\u001b[1;32m      4\u001b[0m     \u001b[0;31m# Create Grid\u001b[0m\u001b[0;34m\u001b[0m\u001b[0;34m\u001b[0m\u001b[0m\n\u001b[0;32m----> 5\u001b[0;31m     \u001b[0mX\u001b[0m\u001b[0;34m,\u001b[0m \u001b[0mY\u001b[0m \u001b[0;34m=\u001b[0m \u001b[0mnp\u001b[0m\u001b[0;34m.\u001b[0m\u001b[0mmeshgrid\u001b[0m\u001b[0;34m(\u001b[0m\u001b[0mnp\u001b[0m\u001b[0;34m.\u001b[0m\u001b[0marange\u001b[0m\u001b[0;34m(\u001b[0m\u001b[0;36m0\u001b[0m\u001b[0;34m,\u001b[0m \u001b[0mL\u001b[0m\u001b[0;34m,\u001b[0m \u001b[0mL\u001b[0m\u001b[0;34m/\u001b[0m\u001b[0mIM\u001b[0m\u001b[0;34m)\u001b[0m\u001b[0;34m,\u001b[0m \u001b[0mnp\u001b[0m\u001b[0;34m.\u001b[0m\u001b[0marange\u001b[0m\u001b[0;34m(\u001b[0m\u001b[0;36m0\u001b[0m\u001b[0;34m,\u001b[0m \u001b[0mH\u001b[0m\u001b[0;34m,\u001b[0m \u001b[0mH\u001b[0m\u001b[0;34m/\u001b[0m\u001b[0mJM\u001b[0m\u001b[0;34m)\u001b[0m\u001b[0;34m)\u001b[0m\u001b[0;34m\u001b[0m\u001b[0m\n\u001b[0m\u001b[1;32m      6\u001b[0m     \u001b[0;31m# Configure the contour\u001b[0m\u001b[0;34m\u001b[0m\u001b[0;34m\u001b[0m\u001b[0m\n\u001b[1;32m      7\u001b[0m     \u001b[0mcp\u001b[0m \u001b[0;34m=\u001b[0m \u001b[0mplt\u001b[0m\u001b[0;34m.\u001b[0m\u001b[0mcontour\u001b[0m\u001b[0;34m(\u001b[0m\u001b[0mX\u001b[0m\u001b[0;34m,\u001b[0m \u001b[0mY\u001b[0m\u001b[0;34m,\u001b[0m \u001b[0mv_new\u001b[0m\u001b[0;34m)\u001b[0m\u001b[0;34m\u001b[0m\u001b[0m\n",
      "\u001b[0;31mTypeError\u001b[0m: only length-1 arrays can be converted to Python scalars"
     ]
    }
   ],
   "source": [
    "plotcontourlines = \"yes\"\n",
    "\n",
    "if plotcontourlines == \"yes\":\n",
    "    # Create Grid\n",
    "    X, Y = np.meshgrid(np.arange(0, L, L/IM), np.arange(0, H, H/JM))\n",
    "    # Configure the contour\n",
    "    cp = plt.contour(X, Y, v_new)\n",
    "    plt.clabel(cp, inline=True, fontsize=10)\n",
    "    plt.title(\"Contour Lines\")\n",
    "    plt.xlabel('x-axis')\n",
    "    plt.ylabel('y-axis')\n",
    "\n",
    "\n",
    "    # Set Colorbar\n",
    "    plt.colorbar()\n",
    "\n",
    "    # Show the result in the plot window\n",
    "    plt.show()\n",
    "    \n",
    "else:\n",
    "    pass"
   ]
  },
  {
   "cell_type": "markdown",
   "metadata": {},
   "source": [
    "#### Convergence Plot"
   ]
  },
  {
   "cell_type": "code",
   "execution_count": null,
   "metadata": {
    "collapsed": false
   },
   "outputs": [],
   "source": [
    "# plotconvergence = \"no\"\n",
    "\n",
    "# if plotconvergence == \"yes\":\n",
    "#     #plot convergence\n",
    "#     plt.plot(counter, residual)\n",
    "#     plt.yscale('log')\n",
    "#     plt.title('Convergence')\n",
    "#     plt.xlabel('iterations')\n",
    "#     plt.ylabel('residual log_10')\n",
    "#     plt.grid(True)\n",
    "#     plt.show()\n",
    "    \n",
    "# else:\n",
    "#     pass"
   ]
  },
  {
   "cell_type": "markdown",
   "metadata": {},
   "source": [
    "### Error Plot"
   ]
  },
  {
   "cell_type": "code",
   "execution_count": null,
   "metadata": {
    "collapsed": false
   },
   "outputs": [],
   "source": [
    "# ploterror = \"no\"\n",
    "\n",
    "# if ploterror == \"yes\":\n",
    "#     #plot error\n",
    "#     plt.plot(counter, error)\n",
    "#     plt.title('error')\n",
    "#     plt.yscale('log')\n",
    "#     plt.xlabel('iterations')\n",
    "#     plt.ylabel('error')\n",
    "#     plt.grid(True)\n",
    "#     plt.show()\n",
    "    \n",
    "# else:\n",
    "#     pass"
   ]
  },
  {
   "cell_type": "code",
   "execution_count": null,
   "metadata": {
    "collapsed": false
   },
   "outputs": [],
   "source": []
  }
 ],
 "metadata": {
  "kernelspec": {
   "display_name": "Python 3",
   "language": "python",
   "name": "python3"
  },
  "language_info": {
   "codemirror_mode": {
    "name": "ipython",
    "version": 3
   },
   "file_extension": ".py",
   "mimetype": "text/x-python",
   "name": "python",
   "nbconvert_exporter": "python",
   "pygments_lexer": "ipython3",
   "version": "3.5.2"
  }
 },
 "nbformat": 4,
 "nbformat_minor": 0
}
